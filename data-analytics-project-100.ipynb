{
 "cells": [
  {
   "cell_type": "code",
   "execution_count": null,
   "id": "3f1b134f-4cb4-4810-b04d-3dfef6fac6b4",
   "metadata": {
    "scrolled": true
   },
   "outputs": [],
   "source": [
    "import pandas as pd\n",
    "import requests\n",
    "\n",
    "df_regs = pd.read_csv(\"C:\\\\Users\\\\admin\\\\Desktop\\\\проект\\\\проект 3\\\\regs_1k.csv\")\n",
    "df_visits = pd.read_csv(\"C:\\\\Users\\\\admin\\\\Desktop\\\\проект\\\\проект 3\\\\visits_1k.csv\")"
   ]
  },
  {
   "cell_type": "code",
   "execution_count": null,
   "id": "13ab8b35-966f-4399-ac4a-fc66558fe401",
   "metadata": {},
   "outputs": [],
   "source": [
    "df_visits.describe()"
   ]
  },
  {
   "cell_type": "code",
   "execution_count": null,
   "id": "5fc8062e-df39-4c3e-a896-616c1653aa25",
   "metadata": {},
   "outputs": [],
   "source": [
    "df_regs.describe()"
   ]
  },
  {
   "cell_type": "markdown",
   "id": "b6ed6e69-0047-4260-a992-6a325e4b2f8b",
   "metadata": {},
   "source": [
    "### Данные по API за период с 01.03.2023 до 01.09.2023"
   ]
  },
  {
   "cell_type": "code",
   "execution_count": null,
   "id": "f08892df-9089-4a07-9979-42743267abf3",
   "metadata": {
    "scrolled": true
   },
   "outputs": [],
   "source": [
    "url_api_visits = 'https://data-charts-api.hexlet.app/visits?begin=2023-03-01&end=2023-09-01'\n",
    "resp_visits= requests.get(url_api_visits)\n",
    "visitors = pd.DataFrame(resp_visits.json())\n",
    "\n",
    "url_api_regs = 'https://data-charts-api.hexlet.app/registrations?begin=2023-03-01&end=2023-09-01'\n",
    "resp_regs = requests.get(url_api_regs)\n",
    "regs = pd.DataFrame(resp_regs.json())"
   ]
  },
  {
   "cell_type": "code",
   "execution_count": null,
   "id": "ab46bd7a-824b-47cd-a949-fc0e6d0a6dfe",
   "metadata": {},
   "outputs": [],
   "source": []
  }
 ],
 "metadata": {
  "kernelspec": {
   "display_name": "Python [conda env:base] *",
   "language": "python",
   "name": "conda-base-py"
  },
  "language_info": {
   "codemirror_mode": {
    "name": "ipython",
    "version": 3
   },
   "file_extension": ".py",
   "mimetype": "text/x-python",
   "name": "python",
   "nbconvert_exporter": "python",
   "pygments_lexer": "ipython3",
   "version": "3.12.7"
  }
 },
 "nbformat": 4,
 "nbformat_minor": 5
}
